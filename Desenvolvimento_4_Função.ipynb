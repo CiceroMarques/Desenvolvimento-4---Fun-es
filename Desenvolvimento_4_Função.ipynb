{
  "nbformat": 4,
  "nbformat_minor": 0,
  "metadata": {
    "colab": {
      "provenance": []
    },
    "kernelspec": {
      "name": "python3",
      "display_name": "Python 3"
    },
    "language_info": {
      "name": "python"
    }
  },
  "cells": [
    {
      "cell_type": "markdown",
      "source": [
        "Faça uma função calculadora de dois números com três parâmetros: os dois primeiros serão os números da operação e o terceiro será a entrada que definirá a operação a ser executada. Considera a seguinte definição:\n",
        "1. Soma\n",
        "2. Subtração\n",
        "3. Multiplicação\n",
        "4. Divisão\n",
        "\n",
        "Caso seja inserido um número de operação que não exista, o resultado deverá ser 0."
      ],
      "metadata": {
        "id": "FJ80NlVerq_P"
      }
    },
    {
      "cell_type": "code",
      "execution_count": 27,
      "metadata": {
        "id": "jApE_IKBrd0Q"
      },
      "outputs": [],
      "source": [
        "def operacaoNumero(num1, num2, operacao):\n",
        "  match operacao:\n",
        "    case 1:\n",
        "      print(\"Operação selecionada: Soma\")\n",
        "      result = num1 + num2\n",
        "      return print(num1, \"+\", num2, \" = \", result)\n",
        "    case 2:\n",
        "      print(\"Operação selecionada: Subtração\")\n",
        "      result = num1 - num2\n",
        "      return print(num1, \"-\", num2, \" = \", result)\n",
        "    case 3:\n",
        "      print(\"Operação selecionada: Multiplicação\")\n",
        "      result = num1 * num2\n",
        "      return print(num1, \"*\", num2, \" = \", result)\n",
        "    case 4:\n",
        "      print(\"Operação selecionada: Divisão\")\n",
        "      if(num2 != 0):\n",
        "        result = num1 / num2\n",
        "        return print(num1, \"/\", num2, \" = \", result)\n",
        "      else:\n",
        "        return print(\"Divisão por 0, impossível de resolver\")\n",
        "    case _:\n",
        "      result = 0\n",
        "      return print(\"Operação desejada inexistente, resultado = \", result)"
      ]
    },
    {
      "cell_type": "markdown",
      "source": [
        "Importante!!! Antes de executar a célular abaixo, a que faz o calculo, é importante exceutar primeiro a célular de cima."
      ],
      "metadata": {
        "id": "sK6jjqhN2uR3"
      }
    },
    {
      "cell_type": "code",
      "source": [
        "print(\"Digite os números que deseja calcular + a operação desejada\")\n",
        "numero1 = int(input(\"Digite o primeiro número: \"))\n",
        "numero2 = int(input(\"Digite o segundo número: \"))\n",
        "\n",
        "print(\"------------ Informe a função desejada para a operação  ----------\")\n",
        "print(\"1 - Soma\\n2 - Subtração\\n3 - Multiplicação\\n4 - Divisão\")\n",
        "op = int(input(\"Digite a operação: \"))\n",
        "\n",
        "operacaoNumero(numero1, numero2, op)"
      ],
      "metadata": {
        "id": "a871P7QByIkb"
      },
      "execution_count": null,
      "outputs": []
    }
  ]
}