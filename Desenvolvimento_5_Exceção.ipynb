{
  "nbformat": 4,
  "nbformat_minor": 0,
  "metadata": {
    "colab": {
      "provenance": [],
      "authorship_tag": "ABX9TyMFzLe/N32V+DrEs2qFjSfm",
      "include_colab_link": true
    },
    "kernelspec": {
      "name": "python3",
      "display_name": "Python 3"
    },
    "language_info": {
      "name": "python"
    }
  },
  "cells": [
    {
      "cell_type": "markdown",
      "metadata": {
        "id": "view-in-github",
        "colab_type": "text"
      },
      "source": [
        "<a href=\"https://colab.research.google.com/github/CiceroMarques/Desenvolvimento-Proz/blob/main/Desenvolvimento_5_Exce%C3%A7%C3%A3o.ipynb\" target=\"_parent\"><img src=\"https://colab.research.google.com/assets/colab-badge.svg\" alt=\"Open In Colab\"/></a>"
      ]
    },
    {
      "cell_type": "markdown",
      "source": [
        " - Desenvolva um programa que recebe do usuário nome completo e ano de nascimento que seja entre 1922 e 2021.\n",
        "A partir dessas informações, o sistema mostrará o nome do usuário e a idade que completou, ou completará, no ano atual (2022).\n",
        "\n",
        " - Caso o usuário não digite um número ou apareça um inválido no campo do ano, o sistema informará o erro e continuará perguntando até que um valor correto seja preenchido."
      ],
      "metadata": {
        "id": "BLb68Bj7GRMc"
      }
    },
    {
      "cell_type": "code",
      "execution_count": 11,
      "metadata": {
        "id": "4lX5RHbvGL7j"
      },
      "outputs": [],
      "source": [
        "def CalculaIdade(nome, anoNasc):\n",
        "  if(anoNasc <= 1922 or anoNasc >= 2024):\n",
        "    raise Exception(\"Valor digitado é maior ou menor que o permitido, pfv insira um ano válido\")\n",
        "  else:\n",
        "    IdadeAtual = 2024 - anoNasc\n",
        "    return print(\"Seu nome é: \",nome, \" e a sua idade no ano atual é:\",IdadeAtual)"
      ]
    },
    {
      "cell_type": "code",
      "source": [
        "nome = input(\"Informe o seu Nome Completo:\")\n",
        "prova = True\n",
        "while(prova == True):\n",
        "  anoNasc = int(input(\"Informe o ano de Nascimento: \"))\n",
        "  try:\n",
        "    CalculaIdade(nome, anoNasc)\n",
        "    prova = False\n",
        "  except Exception as ex:\n",
        "    print(ex)\n",
        "    prova = True\n"
      ],
      "metadata": {
        "id": "Ab4b9uppTlHw"
      },
      "execution_count": null,
      "outputs": []
    }
  ]
}