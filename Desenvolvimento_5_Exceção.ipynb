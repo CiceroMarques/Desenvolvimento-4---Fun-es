{
  "nbformat": 4,
  "nbformat_minor": 0,
  "metadata": {
    "colab": {
      "provenance": [],
      "authorship_tag": "ABX9TyOp+klxTPcv485PG6wNNYl8",
      "include_colab_link": true
    },
    "kernelspec": {
      "name": "python3",
      "display_name": "Python 3"
    },
    "language_info": {
      "name": "python"
    }
  },
  "cells": [
    {
      "cell_type": "markdown",
      "metadata": {
        "id": "view-in-github",
        "colab_type": "text"
      },
      "source": [
        "<a href=\"https://colab.research.google.com/github/CiceroMarques/Desenvolvimento-Proz/blob/main/Desenvolvimento_5_Exce%C3%A7%C3%A3o.ipynb\" target=\"_parent\"><img src=\"https://colab.research.google.com/assets/colab-badge.svg\" alt=\"Open In Colab\"/></a>"
      ]
    },
    {
      "cell_type": "markdown",
      "source": [
        " - Desenvolva um programa que recebe do usuário nome completo e ano de nascimento que seja entre 1922 e 2021.\n",
        "A partir dessas informações, o sistema mostrará o nome do usuário e a idade que completou, ou completará, no ano atual (2022).\n",
        "\n",
        " - Caso o usuário não digite um número ou apareça um inválido no campo do ano, o sistema informará o erro e continuará perguntando até que um valor correto seja preenchido."
      ],
      "metadata": {
        "id": "BLb68Bj7GRMc"
      }
    },
    {
      "cell_type": "code",
      "execution_count": null,
      "metadata": {
        "id": "4lX5RHbvGL7j"
      },
      "outputs": [],
      "source": [
        "def CalculaIdade():\n",
        "  prova = False\n",
        "\n",
        "  nome = input(\"Informe o seu Nome Completo:\")\n",
        "  print(\"Informe o ano de Nascimento: \")\n",
        "\n",
        "  while(prova == False):\n",
        "    try:\n",
        "      anoNasc = int(input())\n",
        "      if(anoNasc <= 1922 or anoNasc >= 2024):\n",
        "        print(\"Valor digitado é maior ou menor que o permitido, pfv insira um ano válido:\")\n",
        "      else:\n",
        "        IdadeAtual = 2024 - anoNasc\n",
        "        print(\"Seu nome é: \", nome, \" e a sua idade no ano atual é:\",IdadeAtual)\n",
        "        prova = True\n",
        "    except:\n",
        "       print(\"O valor informado não é um ano válido\")\n",
        "\n",
        "CalculaIdade()"
      ]
    }
  ]
}